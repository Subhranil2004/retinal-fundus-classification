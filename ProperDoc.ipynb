{
 "cells": [
  {
   "cell_type": "code",
   "execution_count": 1,
   "id": "6950ded1-5cfb-4009-92ff-ef7c182a94b6",
   "metadata": {},
   "outputs": [],
   "source": [
    "#Import the required libraries\n",
    "import os\n",
    "import cv2\n",
    "from qiskit import *\n",
    "import numpy as np\n",
    "from qiskit.providers.ibmq import IBMQ\n",
    "import copy\n",
    "import pandas as pd\n",
    "import matplotlib.pyplot as plt\n",
    "from sklearn import model_selection,datasets\n",
    "from sklearn.model_selection import train_test_split\n",
    "get_ipython().run_line_magic('matplotlib', 'inline')\n"
   ]
  },
  {
   "cell_type": "raw",
   "id": "2b807269-d82b-4846-b61f-5344510e4756",
   "metadata": {},
   "source": [
    "#List all the filepaths in a directory\n",
    "folderpath = r\"\"\n",
    "for filename in os.listdir(folderpath):\n",
    "    filepath = os.path.join(folderpath, filename)\n",
    "    print(filepath)\n",
    "    "
   ]
  },
  {
   "cell_type": "code",
   "execution_count": 2,
   "id": "60b1b32d-19ab-4bf9-9f18-477b2be3716d",
   "metadata": {},
   "outputs": [],
   "source": [
    "#Empty the directory\n",
    "def empty_folder(folder_path):\n",
    "    \n",
    "    # Iterate over the files \n",
    "    for file_name in os.listdir(folder_path):\n",
    "        file_path = os.path.join(folder_path, file_name)\n",
    "        os.remove(file_path)\n"
   ]
  },
  {
   "cell_type": "code",
   "execution_count": 3,
   "id": "1bbcc5a8-f7b0-41c0-a0ca-e42f80e75590",
   "metadata": {},
   "outputs": [],
   "source": [
    "#Check for unhealthy patches\n",
    "def check_unhealthy(patch):\n",
    "    # Count the number of pixels with a value greater than 150\n",
    "    count = (patch > 150).sum()\n",
    "\n",
    "    # Check if the count is greater than 20\n",
    "    if count > 20:\n",
    "        return 1\n",
    "    else:\n",
    "        return 0\n"
   ]
  },
  {
   "cell_type": "code",
   "execution_count": 4,
   "id": "1fc96851-5128-4d61-9e40-a07b3d680430",
   "metadata": {},
   "outputs": [],
   "source": [
    "def extract_overlapping_green_patches(image_path,annot_path, patch_size, stride, healthy_folderpath, unhealthy_folderpath):\n",
    "    image = cv2.imread(image_path)\n",
    "    annot = cv2.imread(annot_path)\n",
    "    height, width, _ = image.shape\n",
    "    patch_width, patch_height = patch_size\n",
    "    stride_width, stride_height = stride\n",
    "    \n",
    "    if not os.path.exists(healthy_folderpath):\n",
    "        os.makedirs(healthy_folderpath)\n",
    "    if not os.path.exists(unhealthy_folderpath):\n",
    "        os.makedirs(unhealthy_folderpath)   \n",
    "        \n",
    "    unhealthy_count = healthy_count = 0 # Initializing counter variables\n",
    "    image_name = image_path.split('\\\\')[-1]\n",
    "    print(f\"Image : {image_name}\")\n",
    "\n",
    "    # Generate and separate patches\n",
    "    for x in range(400, width - patch_width + 1 - 250, stride_width):\n",
    "        for y in range(200, height - patch_height + 1 - 200, stride_height):\n",
    "            if(unhealthy_count >= 500 and healthy_count >= 500): \n",
    "                return\n",
    "            \n",
    "            patch_image = image[y:y+patch_height, x:x+patch_width]\n",
    "            patch_annot = annot[y:y+patch_height, x:x+patch_width]\n",
    "            \n",
    "            # Extract the green channel\n",
    "            green_channel = patch_image[:, :, 1]\n",
    "            # Replace the patch_image with its green channel\n",
    "            patch_image = cv2.merge([green_channel, green_channel, green_channel])\n",
    "            \n",
    "            if(check_unhealthy(patch_annot)):\n",
    "                if(unhealthy_count >= 500):\n",
    "                    continue\n",
    "                patch_path = os.path.join(unhealthy_folderpath, f\"green_{image_name}_{y}_{x}.jpg\")\n",
    "                cv2.imwrite(patch_path, patch_image)\n",
    "                unhealthy_count+=1\n",
    "            else:\n",
    "                if(healthy_count >= 500):\n",
    "                    continue\n",
    "                patch_path = os.path.join(healthy_folderpath, f\"green_{image_name}_{y}_{x}.jpg\")\n",
    "                cv2.imwrite(patch_path, patch_image)\n",
    "                healthy_count+=1\n",
    "            if(patch_image.size == 0):\n",
    "                print(\"Error in : \",patch_path)\n",
    "    print(\"Healthy patches = \", healthy_count, \" Unhealthy patches = \", unhealthy_count)    \n"
   ]
  },
  {
   "cell_type": "code",
   "execution_count": 6,
   "id": "e4ec8c74-02c5-403c-8fd1-309ace768d5e",
   "metadata": {},
   "outputs": [
    {
     "name": "stdout",
     "output_type": "stream",
     "text": [
      "Image : C0014792.jpg\n",
      "Image : C0030692.jpg\n",
      "Image : DS000U30.JPG\n",
      "Image : DS000U32.JPG\n"
     ]
    }
   ],
   "source": [
    "# Train dataset patch extraction\n",
    "\n",
    "train_healthy_folder = r\"E:\\E-Ophtha\\Train\\Green_Healthy_Patch_Train\"\n",
    "train_unhealthy_folder = r\"E:\\E-Ophtha\\Train\\Green_Unhealthy_Patch_Train\"\n",
    "patch_size = (16, 16)  # Width and height of each patch\n",
    "stride = (3, 3)  # Stride for overlapping patches\n",
    "\n",
    "# Empty the healthy and unhealthy folders\n",
    "empty_folder(train_healthy_folder)\n",
    "empty_folder(train_unhealthy_folder)\n",
    "\n",
    "# Define the paths to the image and annotation folders\n",
    "image_folder = r\"E:\\E-Ophtha\\EX_Image_Train\"\n",
    "annot_folder = r\"E:\\E-Ophtha\\EX_Annotation_Train\"\n",
    "\n",
    "# Get a list of file names in both folders\n",
    "image_files = sorted(os.listdir(image_folder))\n",
    "annot_files = sorted(os.listdir(annot_folder))\n",
    "\n",
    "# Iterate over the files in both image and annotation folders simultaneously\n",
    "for image_file, annot_file in zip(image_files, annot_files):\n",
    "    image_path = os.path.join(image_folder, image_file)\n",
    "    annot_path = os.path.join(annot_folder, annot_file)\n",
    "    #Extract green channel patches \n",
    "    extract_overlapping_green_patches(image_path,annot_path, patch_size, stride, train_healthy_folder, train_unhealthy_folder)\n"
   ]
  },
  {
   "cell_type": "code",
   "execution_count": 7,
   "id": "20b73f67-40d4-40fb-8776-8a1217456d0e",
   "metadata": {},
   "outputs": [
    {
     "name": "stdout",
     "output_type": "stream",
     "text": [
      "Image : C0024407.jpg\n",
      "Image : DS000GIU.JPG\n"
     ]
    }
   ],
   "source": [
    "# Test dataset patch extraction\n",
    "\n",
    "test_healthy_folder = r\"E:\\E-Ophtha\\Test\\Green_Healthy_Patch_Test\"\n",
    "test_unhealthy_folder = r\"E:\\E-Ophtha\\Test\\Green_Unhealthy_Patch_Test\"\n",
    "patch_size = (16, 16)  # Width and height of each patch\n",
    "stride = (3, 3)  # Stride for overlapping patches\n",
    "\n",
    "# Empty the healthy and unhealthy folders\n",
    "empty_folder(test_healthy_folder)\n",
    "empty_folder(test_unhealthy_folder)\n",
    "\n",
    "# Define the paths to the image and annotation folders\n",
    "image_folder = r\"E:\\E-Ophtha\\EX_Image_Test\"\n",
    "annot_folder = r\"E:\\E-Ophtha\\EX_Annotation_Test\"\n",
    "\n",
    "# Get a list of file names in both folders\n",
    "image_files = sorted(os.listdir(image_folder))\n",
    "annot_files = sorted(os.listdir(annot_folder))\n",
    "\n",
    "# Iterate over the files in both image and annotation folders simultaneously\n",
    "for image_file, annot_file in zip(image_files, annot_files):\n",
    "    image_path = os.path.join(image_folder, image_file)\n",
    "    annot_path = os.path.join(annot_folder, annot_file)\n",
    "    #Extract green channel patches \n",
    "    extract_overlapping_green_patches(image_path,annot_path, patch_size, stride, test_healthy_folder, test_unhealthy_folder)\n"
   ]
  },
  {
   "cell_type": "code",
   "execution_count": 4,
   "id": "0419577f-602c-4b7b-b3cd-87a46c598718",
   "metadata": {},
   "outputs": [],
   "source": [
    "from keras.preprocessing.image import ImageDataGenerator\n",
    "# Define the image_data_generator function\n",
    "def image_data_generator(healthy_folder, unhealthy_folder):\n",
    "    \n",
    "    # Create an empty list to store the DataFrame objects\n",
    "    dfs = []\n",
    "\n",
    "    # Iterate over the healthy folder and add file paths and labels to the DataFrame\n",
    "    for filename in os.listdir(healthy_folder):\n",
    "        if filename.lower().endswith((\".jpg\", \".jpeg\", \".png\")):\n",
    "            filepath = os.path.join(healthy_folder, filename)\n",
    "            df = pd.DataFrame({'filepath': [filepath], 'label': ['1']})\n",
    "            dfs.append(df)\n",
    "\n",
    "    # Iterate over the unhealthy folder and add file paths and labels to the DataFrame\n",
    "    for filename in os.listdir(unhealthy_folder):\n",
    "        if filename.lower().endswith((\".jpg\", \".jpeg\", \".png\")):\n",
    "            filepath = os.path.join(unhealthy_folder, filename)\n",
    "            df = pd.DataFrame({'filepath': [filepath], 'label': ['0']})\n",
    "            dfs.append(df)\n",
    "\n",
    "    # Concatenate the DataFrames into a single DataFrame\n",
    "    df = pd.concat(dfs, ignore_index=True)\n",
    "    df = df.sample(frac=1, random_state=42)\n",
    "    # Create an ImageDataGenerator to load and preprocess the images\n",
    "    datagen = ImageDataGenerator(rescale=1./255)\n",
    "\n",
    "    # Set the batch size and target size\n",
    "    batch_size = 10\n",
    "    target_size = (16, 16)\n",
    "\n",
    "    # Load the images from the DataFrame using flow_from_dataframe\n",
    "    data = datagen.flow_from_dataframe(\n",
    "        dataframe=df,\n",
    "        x_col='filepath',\n",
    "        y_col='label',\n",
    "        target_size=target_size,\n",
    "        batch_size=batch_size,\n",
    "        color_mode='grayscale',\n",
    "        class_mode='binary',\n",
    "        shuffle= False\n",
    "    )\n",
    "    return data, df\n"
   ]
  },
  {
   "cell_type": "code",
   "execution_count": 5,
   "id": "297ec132",
   "metadata": {},
   "outputs": [
    {
     "name": "stdout",
     "output_type": "stream",
     "text": [
      "Model: \"sequential\"\n",
      "_________________________________________________________________\n",
      " Layer (type)                Output Shape              Param #   \n",
      "=================================================================\n",
      " conv2d (Conv2D)             (None, 14, 14, 64)        640       \n",
      "                                                                 \n",
      " max_pooling2d (MaxPooling2D  (None, 7, 7, 64)         0         \n",
      " )                                                               \n",
      "                                                                 \n",
      " conv2d_1 (Conv2D)           (None, 5, 5, 4)           2308      \n",
      "                                                                 \n",
      " max_pooling2d_1 (MaxPooling  (None, 2, 2, 4)          0         \n",
      " 2D)                                                             \n",
      "                                                                 \n",
      " max_pooling2d_2 (MaxPooling  (None, 1, 1, 4)          0         \n",
      " 2D)                                                             \n",
      "                                                                 \n",
      " flatten (Flatten)           (None, 4)                 0         \n",
      "                                                                 \n",
      "=================================================================\n",
      "Total params: 2,948\n",
      "Trainable params: 2,948\n",
      "Non-trainable params: 0\n",
      "_________________________________________________________________\n"
     ]
    }
   ],
   "source": [
    "# Create model\n",
    "import tensorflow as tf\n",
    "from tensorflow.keras import layers\n",
    "from tensorflow.keras.models import Sequential\n",
    "from tensorflow.keras.layers import Dense, Conv2D, Flatten, Activation, Dropout\n",
    "\n",
    "model = tf.keras.Sequential()\n",
    "model.add(layers.Conv2D(64, (3, 3), activation='relu', input_shape=(16, 16, 1)))# leaky\n",
    "model.add(layers.MaxPooling2D((2, 2)))\n",
    "model.add(layers.Conv2D(4, (3, 3), activation='relu'))\n",
    "#model.add(Dropout(.3, noise_shape=None, seed=None)) #to prevent overfitting\n",
    "\n",
    "model.add(layers.MaxPooling2D((2, 2)))\n",
    "model.add(layers.MaxPooling2D((2, 2)))\n",
    "model.add(layers.Flatten())\n",
    "model.summary()"
   ]
  },
  {
   "cell_type": "code",
   "execution_count": 6,
   "id": "94233588",
   "metadata": {},
   "outputs": [
    {
     "name": "stdout",
     "output_type": "stream",
     "text": [
      "Loaded the plot_curve function.\n"
     ]
    }
   ],
   "source": [
    "# Plot curve function\n",
    "import matplotlib.pyplot as plt\n",
    "\n",
    "def plot_curve(epochs, hist, list_of_metrics):\n",
    "    \"\"\"Plot a curve of one or more classification metrics vs. epoch.\"\"\"\n",
    "\n",
    "    # Adjust epochs and history data if they have different lengths\n",
    "    if len(epochs) != hist.shape[0]:\n",
    "        epochs = range(1, hist.shape[0] + 1)\n",
    "\n",
    "    plt.figure()\n",
    "    plt.xlabel(\"Epoch\")\n",
    "    plt.ylabel(\"Value\")\n",
    "\n",
    "    for m in list_of_metrics:\n",
    "        x = hist[m]\n",
    "        plt.plot(epochs[1:], x[1:], label=m)\n",
    "\n",
    "    plt.legend()\n",
    "print(\"Loaded the plot_curve function.\")"
   ]
  },
  {
   "cell_type": "raw",
   "id": "c9c7e288",
   "metadata": {},
   "source": [
    "# Train the model on classical part\n",
    "model.compile(optimizer='adam', loss='binary_crossentropy', metrics=['accuracy'])\n",
    "\n",
    "# Train the model using the data generator\n",
    "epochs = 15\n",
    "history = model.fit(data, epochs=epochs)\n",
    "\n",
    "# To track the progression of training, gather a snapshot\n",
    "# of the model's metrics at each epoch.\n",
    "epochs = history.epoch\n",
    "hist = pd.DataFrame(history.history)\n",
    "\n",
    "# Plot the train curve\n",
    "list_of_metrics_to_plot = ['accuracy']\n",
    "plot_curve(epochs, hist, list_of_metrics_to_plot)"
   ]
  },
  {
   "cell_type": "raw",
   "id": "a75d3220",
   "metadata": {},
   "source": [
    "y = df['label'].astype(int)\n",
    "y = y.tolist()\n",
    "# Predict with the trained model\n",
    "predictions = model.predict(data)\n",
    "#print(predictions)\n",
    "# Convert predictions to class labels\n",
    "predicted_labels = [np.argmax(pred) for pred in predictions]\n",
    "\n",
    "# Compare predicted labels with actual labels\n",
    "correct_predictions = np.sum(np.array(predicted_labels) == np.array(y))\n",
    "total_samples = len(y)\n",
    "accuracy = correct_predictions / total_samples\n",
    "print('Accuracy:', accuracy)"
   ]
  },
  {
   "cell_type": "code",
   "execution_count": 7,
   "id": "2c29e2ce",
   "metadata": {},
   "outputs": [
    {
     "name": "stdout",
     "output_type": "stream",
     "text": [
      "Found 4000 validated image filenames belonging to 2 classes.\n",
      "400/400 [==============================] - 4s 9ms/step\n",
      "Train flatten output shape: (4000, 4)\n",
      "Found 2000 validated image filenames belonging to 2 classes.\n",
      "200/200 [==============================] - 2s 9ms/step\n",
      "Test flatten output shape: (2000, 4)\n"
     ]
    }
   ],
   "source": [
    "# Generate train and test flatten layer output\n",
    "\n",
    "# Set the paths to the train image folders\n",
    "healthy_folder = r\"E:\\E-Ophtha\\Train\\Green_Healthy_Patch_Train\"\n",
    "unhealthy_folder = r\"E:\\E-Ophtha\\Train\\Green_Unhealthy_Patch_Train\"\n",
    "\n",
    "train_data, train_df = image_data_generator(healthy_folder, unhealthy_folder)\n",
    "flatten_output_train = model.predict(train_data)\n",
    "\n",
    "# Print the shape of the flatten layer's output\n",
    "print(\"Train flatten output shape:\", flatten_output_train.shape)\n",
    "\n",
    "# Set the paths to the test image folders\n",
    "healthy_folder = r\"E:\\E-Ophtha\\Test\\Green_Healthy_Patch_Test\"\n",
    "unhealthy_folder = r\"E:\\E-Ophtha\\Test\\Green_Unhealthy_Patch_Test\"\n",
    "\n",
    "test_data, test_df = image_data_generator(healthy_folder, unhealthy_folder)\n",
    "flatten_output_test = model.predict(test_data)\n",
    "\n",
    "# Print the shape of the flatten layer's output\n",
    "print(\"Test flatten output shape:\", flatten_output_test.shape)"
   ]
  },
  {
   "cell_type": "code",
   "execution_count": 8,
   "id": "8ef4842d",
   "metadata": {},
   "outputs": [
    {
     "name": "stdout",
     "output_type": "stream",
     "text": [
      "x_train[0:10] :\n",
      " [[0.018717080354690552, 0.016551116481423378, 0.0, 0.04072440415620804], [0.032451264560222626, 0.021716514602303505, 0.0, 0.04291507229208946], [0.040906284004449844, 0.022915955632925034, 0.0, 0.051199525594711304], [0.02961692586541176, 0.016340261325240135, 0.0, 0.03645961731672287], [0.044076018035411835, 0.02929098904132843, 0.0, 0.061203811317682266], [0.025252804160118103, 0.014559829607605934, 0.0, 0.031829312443733215], [0.02153470739722252, 0.011821169406175613, 0.0, 0.02734065055847168], [0.0, 0.0, 0.0, 0.0], [0.0, 0.0, 0.0, 0.0], [0.03408863767981529, 0.020528841763734818, 0.0, 0.04323378577828407]]\n",
      "y_train[0:10] :\n",
      " [1, 0, 1, 0, 0, 1, 1, 1, 1, 1]\n",
      "x_test[0:10] :\n",
      " [[0.04240278899669647, 0.02318970486521721, 0.0, 0.0502413734793663], [0.058341510593891144, 0.0335623174905777, 0.0, 0.07465141266584396], [0.060588281601667404, 0.03479950502514839, 0.0, 0.07511171698570251], [0.03814442455768585, 0.021711057052016258, 0.0, 0.04886515438556671], [0.05922681838274002, 0.033128391951322556, 0.0, 0.07333251088857651], [0.058973997831344604, 0.032901082187891006, 0.0, 0.07309338450431824], [0.03509654849767685, 0.021054280921816826, 0.0, 0.04325683042407036], [0.035944461822509766, 0.021568812429904938, 0.0, 0.04596194624900818], [0.05928549915552139, 0.03348759189248085, 0.0, 0.07614172250032425], [0.05718069151043892, 0.03196350485086441, 0.0, 0.07221704721450806]]\n",
      "y_test[0:10] :\n",
      " [0, 1, 0, 1, 0, 0, 1, 0, 1, 0]\n"
     ]
    }
   ],
   "source": [
    "from sklearn.model_selection import train_test_split\n",
    "\n",
    "x_train = flatten_output_train.tolist()\n",
    "y_train = train_df['label'].astype(int).tolist()\n",
    "\n",
    "x_test = flatten_output_test.tolist()\n",
    "y_test = test_df['label'].astype(int).tolist()\n",
    "\n",
    "#x_train,x_test,y_train,y_test = train_test_split(x,y,test_size=0.33,random_state=42)\n",
    "print(\"x_train[0:10] :\\n\",x_train[0:10])\n",
    "print(\"y_train[0:10] :\\n\",y_train[0:10])\n",
    "\n",
    "print(\"x_test[0:10] :\\n\",x_test[0:10])\n",
    "print(\"y_test[0:10] :\\n\",y_test[0:10])"
   ]
  },
  {
   "cell_type": "code",
   "execution_count": 18,
   "id": "df3f54e6",
   "metadata": {},
   "outputs": [],
   "source": [
    "# Define feature map and variational circuit\n",
    "import numpy as np\n",
    "import matplotlib.pyplot as plt\n",
    "q_depth = 6\n",
    "N=4\n",
    "def feature_map(x):\n",
    "    q=QuantumRegister(N)\n",
    "    c=ClassicalRegister(1)\n",
    "    qc=QuantumCircuit(q,c)\n",
    "    for i in range(N-1):\n",
    "        qc.h([0,1,2,3])\n",
    "    for i,x in enumerate(x):\n",
    "        qc.ry(x,i)\n",
    "\n",
    "    return qc,c\n",
    "\n",
    "def variational_circuit(qc,theta):\n",
    "       \n",
    "    for i in range(N-1):\n",
    "        qc.ry(theta[i], i)\n",
    "    \n",
    "     \n",
    "    # Sequence of trainable variational layers\n",
    "        for _ in range(q_depth):\n",
    "            for i in range(0, N-1, 2):\n",
    "                qc.cx(i,i+1)\n",
    "\n",
    "            for i in range(1, N-1, 2):\n",
    "                qc.cx(i,i+1)\n",
    "            for i in range(N):\n",
    "                qc.ry(theta[i], i)           \n",
    "   \n",
    "    return qc\n",
    "# def variational_circuit(qc,theta):\n",
    "#     for i in range(N-1):\n",
    "#         qc.cnot(i,i+1)\n",
    "#     qc.cnot(N-1,0)\n",
    "#     for i in range(N-1):\n",
    "#         qc.ry(theta[i],i)\n",
    "   \n",
    "#     return qc\n",
    "                \n",
    "#qc,c=feature_map(x_train[2])\n",
    "#qc=variational_circuit(qc,np.random.rand(N))\n",
    "#qc.measure(0,c)\n",
    "#qc.draw()\n",
    "#Uncomment all comments to see circuit diagram"
   ]
  },
  {
   "cell_type": "code",
   "execution_count": 10,
   "id": "98dff221",
   "metadata": {},
   "outputs": [],
   "source": [
    "def quantum_nn(x,theta,simulator=True):\n",
    "    qc,c=feature_map(x)\n",
    "    qc=variational_circuit(qc,theta)\n",
    "    \n",
    "    qc.measure(0,c)\n",
    "\n",
    "    shots=1000\n",
    "    backend=Aer.get_backend('qasm_simulator')\n",
    "\n",
    "    job=execute(qc,backend,shots=shots)\n",
    "    result=job.result()\n",
    "    counts=result.get_counts(qc)\n",
    "    #print(\"Counts : \",counts)\n",
    "    return counts.get('1', 0)/shots\n",
    "    "
   ]
  },
  {
   "cell_type": "code",
   "execution_count": 11,
   "id": "def239e2",
   "metadata": {},
   "outputs": [],
   "source": [
    "def loss(pred,targ):\n",
    "    return pow((pred-targ),2)\n"
   ]
  },
  {
   "cell_type": "code",
   "execution_count": 12,
   "id": "621e3c07",
   "metadata": {},
   "outputs": [],
   "source": [
    "import copy\n",
    "def gradient(x,y,theta):\n",
    "    \n",
    "    delta=0.01\n",
    "    grad=[]\n",
    "    dtheta=copy.deepcopy(theta)#if outside for?\n",
    "    dtheta+=delta\n",
    "\n",
    "    for i in range(len(theta)):\n",
    "        \n",
    "        pred1=quantum_nn(x,dtheta)\n",
    "        pred2=quantum_nn(x,theta)\n",
    "\n",
    "        grad.append((loss(pred1,y)-loss(pred2,y))/delta)\n",
    "\n",
    "    return np.array(grad)"
   ]
  },
  {
   "cell_type": "code",
   "execution_count": 13,
   "id": "14478dfe",
   "metadata": {},
   "outputs": [],
   "source": [
    "def accuracy(x,y,theta):\n",
    "    \n",
    "    counter=0\n",
    "    for x_i,y_i in zip(x,y):\n",
    "        prediction = quantum_nn(x_i,theta)\n",
    "    \n",
    "        if prediction<0.5 and y_i==0.0:\n",
    "            counter+=1\n",
    "        elif prediction>=0.5 and y_i==1.0:\n",
    "            counter+=1\n",
    "    print(theta)        \n",
    "    return counter/len(x)"
   ]
  },
  {
   "cell_type": "code",
   "execution_count": 19,
   "id": "36f4f78b",
   "metadata": {},
   "outputs": [
    {
     "name": "stdout",
     "output_type": "stream",
     "text": [
      "Epoch \t Loss \t Training accuracy\n",
      "[3.24709  4.190947 0.224188 1.172077]\n",
      "0 \t 0.278 \t 0.596\n",
      "[ 5.344054  8.688793 -8.276486  0.256177]\n",
      "1 \t 0.285 \t 0.500\n",
      "Execution time: 2636.504648208618 seconds\n"
     ]
    },
    {
     "data": {
      "image/png": "[encoded data removed]",
      "text/plain": [
       "<Figure size 640x480 with 1 Axes>"
      ]
     },
     "metadata": {},
     "output_type": "display_data"
    },
    {
     "name": "stdout",
     "output_type": "stream",
     "text": [
      "[ 5.344054  8.688793 -8.276486  0.256177]\n"
     ]
    },
    {
     "data": {
      "text/plain": [
       "0.5"
      ]
     },
     "execution_count": 19,
     "metadata": {},
     "output_type": "execute_result"
    }
   ],
   "source": [
    "import time\n",
    "from qiskit import Aer, execute\n",
    "#using gradient descent\n",
    "eta=0.03\n",
    "loss_list=[]\n",
    "#Weight_list[][]\n",
    "\n",
    "theta=np.ones(N)\n",
    "#FedAvg-same scale\n",
    "#theta=[2.1357003,1.1166838,0.0243824,0.378265575]     \n",
    "#FedAvg- Scaled Up\n",
    "#theta=[1.6869891, 0.2722195, -0.0349582, 0.2437433, 2.5844115, 1.9611481, 2.0593406, 0.51278785]\n",
    "#FedAvg-Dynamic task selection\n",
    "#Task Selection and Scheduling: Consider dynamic task selection and scheduling strategies to assign data samples to tasks \n",
    "#that need more attention. \n",
    "#By focusing on tasks that contribute more, the federated model is implemented.\n",
    "#User Input : Underwater or Aerial Dataset? set theta accordingly.\n",
    "    \n",
    "print(\"Epoch \\t Loss \\t Training accuracy\")\n",
    "# Start the timer\n",
    "start_time = time.time()\n",
    "epoch = 2\n",
    "\n",
    "for i in range(epoch):\n",
    "    loss_func=[]\n",
    "    for x_i,y_i in zip(x_train,y_train):\n",
    "        prediction = quantum_nn(x_i,theta)\n",
    "        loss_func.append(loss(prediction,y_i))\n",
    "        #update theta\n",
    "        theta=theta-eta*gradient(x_i,y_i,theta)\n",
    "        \n",
    "    loss_list.append(np.mean(loss_func))\n",
    "    acc=accuracy(x_train,y_train,theta)\n",
    "    \n",
    "    print(f'{i} \\t {loss_list[-1]:.3f} \\t {acc:.3f}')\n",
    "\n",
    "end_time = time.time()\n",
    "\n",
    "execution_time = end_time - start_time\n",
    "\n",
    "# Print the execution time\n",
    "print(f\"Execution time: {execution_time} seconds\")\n",
    "#print(\"Early stopping at minimum loss\")\n",
    "\n",
    "\n",
    "plt.plot(loss_list)\n",
    "plt.xlabel('Epoch')\n",
    "plt.ylabel('loss')\n",
    "plt.show()\n",
    "\n",
    "accuracy(x_test,y_test,theta)"
   ]
  },
  {
   "cell_type": "code",
   "execution_count": null,
   "id": "a3f2b767-50d3-492c-abfc-3addafba8485",
   "metadata": {},
   "outputs": [],
   "source": []
  }
 ],
 "metadata": {
  "kernelspec": {
   "display_name": "Python 3 (ipykernel)",
   "language": "python",
   "name": "python3"
  },
  "language_info": {
   "codemirror_mode": {
    "name": "ipython",
    "version": 3
   },
   "file_extension": ".py",
   "mimetype": "text/x-python",
   "name": "python",
   "nbconvert_exporter": "python",
   "pygments_lexer": "ipython3",
   "version": "3.11.4"
  }
 },
 "nbformat": 4,
 "nbformat_minor": 5
}
